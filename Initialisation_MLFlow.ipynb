{
  "nbformat": 4,
  "nbformat_minor": 0,
  "metadata": {
    "colab": {
      "provenance": [],
      "authorship_tag": "ABX9TyPMXGyqrFc7R+vKucFDTMtv",
      "include_colab_link": true
    },
    "kernelspec": {
      "name": "python3",
      "display_name": "Python 3"
    },
    "language_info": {
      "name": "python"
    }
  },
  "cells": [
    {
      "cell_type": "markdown",
      "metadata": {
        "id": "view-in-github",
        "colab_type": "text"
      },
      "source": [
        "<a href=\"https://colab.research.google.com/github/BastienFRILEUX/My_apps/blob/main/Initialisation_MLFlow.ipynb\" target=\"_parent\"><img src=\"https://colab.research.google.com/assets/colab-badge.svg\" alt=\"Open In Colab\"/></a>"
      ]
    },
    {
      "cell_type": "code",
      "execution_count": null,
      "metadata": {
        "id": "w0x9y1a4Ga9j"
      },
      "outputs": [],
      "source": [
        "#pip install mlflow\n",
        "#Il faut aussi se créer un compte sur ngrok et récupérer son Authtoken"
      ]
    },
    {
      "cell_type": "code",
      "source": [
        "#pip install pyngrok"
      ],
      "metadata": {
        "id": "qiTTSl46Mdo1"
      },
      "execution_count": null,
      "outputs": []
    },
    {
      "cell_type": "code",
      "source": [
        "from sklearn import datasets\n",
        "from sklearn.model_selection import train_test_split\n",
        "from sklearn.linear_model import LogisticRegression\n",
        "from sklearn.ensemble import RandomForestClassifier\n",
        "from pyngrok import ngrok\n",
        "import pandas as pd\n",
        "import numpy as np\n",
        "import mlflow"
      ],
      "metadata": {
        "id": "pYCJznOMGlI9"
      },
      "execution_count": null,
      "outputs": []
    },
    {
      "cell_type": "code",
      "source": [
        "dataset = datasets.load_iris()\n",
        "seed = 123\n",
        "X_train, X_test, y_train, y_test = train_test_split(dataset.data, dataset.target, test_size=0.2, random_state=seed)\n",
        "print(\"Dimensions :\", X_train.shape, X_test.shape, y_train.shape, y_test.shape)"
      ],
      "metadata": {
        "colab": {
          "base_uri": "https://localhost:8080/"
        },
        "id": "h2WH1WtHHlG0",
        "outputId": "cea7fb51-31a2-4557-df49-99b85a5abd5f"
      },
      "execution_count": null,
      "outputs": [
        {
          "output_type": "stream",
          "name": "stdout",
          "text": [
            "Dimensions : (120, 4) (30, 4) (120,) (30,)\n"
          ]
        }
      ]
    },
    {
      "cell_type": "code",
      "source": [
        "#1ère expérience\n",
        "mlflow.set_experiment(\"Reg_logistic_models\") #Nom de la branche si on se réfère github. \n",
        "mlflow.sklearn.autolog()\n",
        "#Premier Run\n",
        "with mlflow.start_run(run_name = \"Reg_logistic_defaut\"): #Nom du Run. On peut en avoir 1 ou plusieurs\n",
        "  lr = LogisticRegression()\n",
        "  lr.fit(X_train, y_train)"
      ],
      "metadata": {
        "colab": {
          "base_uri": "https://localhost:8080/"
        },
        "id": "kN67cXKQI6q6",
        "outputId": "9e823409-10d0-4adb-e816-8c34d2d965d1"
      },
      "execution_count": null,
      "outputs": [
        {
          "output_type": "stream",
          "name": "stderr",
          "text": [
            "2023/05/27 07:48:30 INFO mlflow.tracking.fluent: Experiment with name 'Reg_logistic_models' does not exist. Creating a new experiment.\n",
            "/usr/local/lib/python3.10/dist-packages/sklearn/linear_model/_logistic.py:458: ConvergenceWarning: lbfgs failed to converge (status=1):\n",
            "STOP: TOTAL NO. of ITERATIONS REACHED LIMIT.\n",
            "\n",
            "Increase the number of iterations (max_iter) or scale the data as shown in:\n",
            "    https://scikit-learn.org/stable/modules/preprocessing.html\n",
            "Please also refer to the documentation for alternative solver options:\n",
            "    https://scikit-learn.org/stable/modules/linear_model.html#logistic-regression\n",
            "  n_iter_i = _check_optimize_result(\n",
            "2023/05/27 07:48:37 WARNING mlflow.utils.autologging_utils: MLflow autologging encountered a warning: \"/usr/local/lib/python3.10/dist-packages/_distutils_hack/__init__.py:33: UserWarning: Setuptools is replacing distutils.\"\n"
          ]
        }
      ]
    },
    {
      "cell_type": "code",
      "source": [
        "#Second Run - toujours dans la même expérience (experiment)\n",
        "with mlflow.start_run(run_name = \"Reg_logistic_max_iter200\"): #Nom du Run. On peut en avoir 1 ou plusieurs\n",
        "  lr = LogisticRegression(max_iter=200)\n",
        "  lr.fit(X_train, y_train)"
      ],
      "metadata": {
        "id": "EYdwF4xII_Pf"
      },
      "execution_count": null,
      "outputs": []
    },
    {
      "cell_type": "code",
      "source": [
        "#2nd expérience\n",
        "mlflow.set_experiment(\"Decison_tree_models\")\n",
        "mlflow.sklearn.autolog()\n",
        "#Premier Run\n",
        "with mlflow.start_run(run_name=\"dt_defaut\"):\n",
        "  dt = RandomForestClassifier(random_state=seed)\n",
        "  dt.fit(X_train, y_train)"
      ],
      "metadata": {
        "colab": {
          "base_uri": "https://localhost:8080/"
        },
        "id": "Y0bfO3BGROSK",
        "outputId": "08f14ebf-3995-467c-9781-0feddc9d78a0"
      },
      "execution_count": null,
      "outputs": [
        {
          "output_type": "stream",
          "name": "stderr",
          "text": [
            "2023/05/27 08:16:09 INFO mlflow.tracking.fluent: Experiment with name 'Decison_tree_models' does not exist. Creating a new experiment.\n"
          ]
        }
      ]
    },
    {
      "cell_type": "code",
      "source": [
        "#Second Run\n",
        "with mlflow.start_run(run_name=\"dt_max_depth3\"):\n",
        "  dt2 = RandomForestClassifier(max_depth = 3, random_state=seed)\n",
        "  dt2.fit(X_train, y_train)"
      ],
      "metadata": {
        "id": "qMNtUr6dR3r9"
      },
      "execution_count": null,
      "outputs": []
    },
    {
      "cell_type": "code",
      "source": [
        "new_data = np.array([[5.5,3.8,4.6,1.9]])\n",
        "new_data"
      ],
      "metadata": {
        "colab": {
          "base_uri": "https://localhost:8080/"
        },
        "id": "LSkZZ4srQQCK",
        "outputId": "12532978-b936-422d-d994-eaef84659af1"
      },
      "execution_count": null,
      "outputs": [
        {
          "output_type": "execute_result",
          "data": {
            "text/plain": [
              "array([[5.5, 3.8, 4.6, 1.9]])"
            ]
          },
          "metadata": {},
          "execution_count": 34
        }
      ]
    },
    {
      "cell_type": "code",
      "source": [
        "#Code pour faire des prédictions directement récupé à partir de MlFlow\n",
        "import mlflow\n",
        "logged_model = 'runs:/febaaafad8274d7aa2d3fbb1046685a0/model'\n",
        "\n",
        "# Load model as a PyFuncModel.\n",
        "loaded_model = mlflow.pyfunc.load_model(logged_model)\n",
        "\n",
        "# Predict on a Pandas DataFrame.\n",
        "import pandas as pd\n",
        "prediction = loaded_model.predict(new_data)\n",
        "prediction"
      ],
      "metadata": {
        "colab": {
          "base_uri": "https://localhost:8080/"
        },
        "id": "j1oMqPDvQCf0",
        "outputId": "28ffe91a-0bd2-4685-9a3c-641892ad9063"
      },
      "execution_count": null,
      "outputs": [
        {
          "output_type": "stream",
          "name": "stderr",
          "text": [
            "2023/05/27 08:24:55 WARNING mlflow.pyfunc: Detected one or more mismatches between the model's dependencies and the current Python environment:\n",
            " - mlflow (current: 2.3.2, required: mlflow==2.3)\n",
            "To fix the mismatches, call `mlflow.pyfunc.get_model_dependencies(model_uri)` to fetch the model's environment and install dependencies using the resulting environment file.\n"
          ]
        },
        {
          "output_type": "execute_result",
          "data": {
            "text/plain": [
              "array([1])"
            ]
          },
          "metadata": {},
          "execution_count": 46
        }
      ]
    },
    {
      "cell_type": "code",
      "source": [
        "#Regardons le résultat dans l'interface graphique\n",
        "ngrok.kill()\n",
        "\n",
        "#Clé après avoir créé son compte sur ngrok (gratuit)\n",
        "NGROK_AUTH_TOKEN = \"2QMnpjpxW7bgPfgrKsfxEqZYgCg_4G7giq9vL7GocfVbYxXXB\"\n",
        "ngrok.set_auth_token(NGROK_AUTH_TOKEN)\n",
        "\n",
        "#Ouvre un tunnel HTTPs sur le port 5000 http://localhost:5000\n",
        "ngrok_tunnel = ngrok.connect(addr=\"5000\", proto=\"http\", bind_tls=True)\n",
        "print(\"MLflow Traking UI:\", ngrok_tunnel.public_url)"
      ],
      "metadata": {
        "colab": {
          "base_uri": "https://localhost:8080/"
        },
        "id": "7GS2PHs5L4eK",
        "outputId": "216578cb-8fe1-45b5-adf7-ac6484d48e51"
      },
      "execution_count": null,
      "outputs": [
        {
          "output_type": "stream",
          "name": "stderr",
          "text": [
            "WARNING:pyngrok.process.ngrok:t=2023-05-27T08:22:59+0000 lvl=warn msg=\"ngrok config file found at legacy location, move to XDG location\" xdg_path=/root/.config/ngrok/ngrok.yml legacy_path=/root/.ngrok2/ngrok.yml\n"
          ]
        },
        {
          "output_type": "stream",
          "name": "stdout",
          "text": [
            "MLflow Traking UI: https://2139-35-197-60-134.ngrok-free.app\n"
          ]
        }
      ]
    },
    {
      "cell_type": "code",
      "source": [
        "!mlflow ui"
      ],
      "metadata": {
        "colab": {
          "base_uri": "https://localhost:8080/"
        },
        "id": "RCFED66EIrPr",
        "outputId": "58be15bb-8c63-4c7d-d520-7daaae1c4c1d"
      },
      "execution_count": null,
      "outputs": [
        {
          "output_type": "stream",
          "name": "stdout",
          "text": [
            "[2023-05-27 08:23:06 +0000] [14376] [INFO] Starting gunicorn 20.1.0\n",
            "[2023-05-27 08:23:06 +0000] [14376] [INFO] Listening at: http://127.0.0.1:5000 (14376)\n",
            "[2023-05-27 08:23:06 +0000] [14376] [INFO] Using worker: sync\n",
            "[2023-05-27 08:23:06 +0000] [14381] [INFO] Booting worker with pid: 14381\n",
            "[2023-05-27 08:23:06 +0000] [14382] [INFO] Booting worker with pid: 14382\n",
            "[2023-05-27 08:23:06 +0000] [14383] [INFO] Booting worker with pid: 14383\n",
            "[2023-05-27 08:23:06 +0000] [14384] [INFO] Booting worker with pid: 14384\n",
            "\n",
            "[2023-05-27 08:24:45 +0000] [14376] [INFO] Handling signal: int\n",
            "Aborted!\n",
            "[2023-05-27 08:24:45 +0000] [14381] [INFO] Worker exiting (pid: 14381)\n",
            "[2023-05-27 08:24:45 +0000] [14383] [INFO] Worker exiting (pid: 14383)\n",
            "[2023-05-27 08:24:45 +0000] [14384] [INFO] Worker exiting (pid: 14384)\n",
            "[2023-05-27 08:24:45 +0000] [14382] [INFO] Worker exiting (pid: 14382)\n",
            "[2023-05-27 08:24:47 +0000] [14376] [INFO] Shutting down: Master\n"
          ]
        }
      ]
    },
    {
      "cell_type": "code",
      "source": [],
      "metadata": {
        "id": "94ioPd7IIoB6"
      },
      "execution_count": null,
      "outputs": []
    }
  ]
}